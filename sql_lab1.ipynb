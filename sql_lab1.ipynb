{
 "cells": [
  {
   "cell_type": "code",
   "execution_count": 3,
   "metadata": {},
   "outputs": [
    {
     "name": "stdout",
     "output_type": "stream",
     "text": [
      "(951, 'VOYAGE LEGALLY')\n",
      "(952, 'WAGON JAWS')\n",
      "(953, 'WAIT CIDER')\n",
      "(954, 'WAKE JAWS')\n",
      "(955, 'WALLS ARTIST')\n",
      "(956, 'WANDA CHAMBER')\n",
      "(957, 'WAR NOTTING')\n",
      "(958, 'WARDROBE PHANTOM')\n",
      "(959, 'WARLOCK WEREWOLF')\n",
      "(960, 'WARS PLUTO')\n",
      "(961, 'WASH HEAVENLY')\n",
      "(962, 'WASTELAND DIVINE')\n",
      "(963, 'WATCH TRACY')\n",
      "(964, 'WATERFRONT DELIVERANCE')\n",
      "(965, 'WATERSHIP FRONTIER')\n",
      "(966, 'WEDDING APOLLO')\n",
      "(967, 'WEEKEND PERSONAL')\n",
      "(968, 'WEREWOLF LOLA')\n",
      "(969, 'WEST LION')\n",
      "(970, 'WESTWARD SEABISCUIT')\n",
      "(971, 'WHALE BIKINI')\n",
      "(972, 'WHISPERER GIANT')\n",
      "(973, 'WIFE TURN')\n",
      "(974, 'WILD APOLLO')\n",
      "(975, 'WILLOW TRACY')\n",
      "(976, 'WIND PHANTOM')\n",
      "(977, 'WINDOW SIDE')\n",
      "(978, 'WISDOM WORKER')\n",
      "(979, 'WITCHES PANIC')\n",
      "(980, 'WIZARD COLDBLOODED')\n",
      "(981, 'WOLVES DESIRE')\n",
      "(982, 'WOMEN DORADO')\n",
      "(983, 'WON DARES')\n",
      "(984, 'WONDERFUL DROP')\n",
      "(985, 'WONDERLAND CHRISTMAS')\n",
      "(986, 'WONKA SEA')\n",
      "(987, 'WORDS HUNTER')\n",
      "(988, 'WORKER TARZAN')\n",
      "(989, 'WORKING MICROCOSMOS')\n",
      "(990, 'WORLD LEATHERNECKS')\n",
      "(991, 'WORST BANGER')\n",
      "(992, 'WRATH MILE')\n",
      "(993, 'WRONG BEHAVIOR')\n",
      "(994, 'WYOMING STORM')\n",
      "(995, 'YENTL IDAHO')\n",
      "(996, 'YOUNG LANGUAGE')\n",
      "(997, 'YOUTH KICK')\n",
      "(998, 'ZHIVAGO CORE')\n",
      "(999, 'ZOOLANDER FICTION')\n",
      "(1000, 'ZORRO ARK')\n"
     ]
    }
   ],
   "source": [
    "import mysql.connector\n",
    "\n",
    "db = mysql.connector.connect(user='root', host='127.0.0.1', password='hello', database='sakila')\n",
    "cursor = db.cursor()\n",
    "\n",
    "query = ('select film_id, title from film where film_id > 950;')\n",
    "cursor.execute(query)\n",
    "\n",
    "for info in cursor:\n",
    "\tprint( info)\n",
    "\n",
    "\n",
    "\n",
    "#Hat tip to Craig Einstein"
   ]
  },
  {
   "cell_type": "code",
   "execution_count": null,
   "metadata": {
    "collapsed": true
   },
   "outputs": [],
   "source": [
    "#query2= #code for a query for another table from sakila\n",
    "cursor.close()\n",
    "db.close()"
   ]
  }
 ],
 "metadata": {
  "kernelspec": {
   "display_name": "Python 3",
   "language": "python",
   "name": "python3"
  },
  "language_info": {
   "codemirror_mode": {
    "name": "ipython",
    "version": 3
   },
   "file_extension": ".py",
   "mimetype": "text/x-python",
   "name": "python",
   "nbconvert_exporter": "python",
   "pygments_lexer": "ipython3",
   "version": "3.6.2"
  }
 },
 "nbformat": 4,
 "nbformat_minor": 2
}
